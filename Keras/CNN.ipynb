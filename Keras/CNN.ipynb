{
  "nbformat": 4,
  "nbformat_minor": 0,
  "metadata": {
    "colab": {
      "provenance": []
    },
    "kernelspec": {
      "display_name": "Python 3",
      "language": "python",
      "name": "python3"
    },
    "language_info": {
      "codemirror_mode": {
        "name": "ipython",
        "version": 3
      },
      "file_extension": ".py",
      "mimetype": "text/x-python",
      "name": "python",
      "nbconvert_exporter": "python",
      "pygments_lexer": "ipython3",
      "version": "3.8.5"
    }
  },
  "cells": [
    {
      "cell_type": "code",
      "metadata": {
        "id": "tQF9Q3tMSt0r"
      },
      "source": [
        "import numpy as np\n",
        "import pandas as pd\n",
        "import matplotlib.pyplot as plt"
      ],
      "execution_count": 5,
      "outputs": []
    },
    {
      "cell_type": "markdown",
      "source": [
        "##Loading Data\n"
      ],
      "metadata": {
        "id": "TZs0gmOEGqeL"
      }
    },
    {
      "cell_type": "code",
      "metadata": {
        "id": "uDK-ICMnek--"
      },
      "source": [
        "from tensorflow.keras.datasets import fashion_mnist\n",
        "(x_train, y_train), (x_test, y_test) = fashion_mnist.load_data()"
      ],
      "execution_count": 16,
      "outputs": []
    },
    {
      "cell_type": "markdown",
      "source": [
        "## Some Preprocessing"
      ],
      "metadata": {
        "id": "JnX0Zh1TLyAj"
      }
    },
    {
      "cell_type": "code",
      "metadata": {
        "id": "POWxNv9TmtVk"
      },
      "source": [
        "x_train = x_train.astype('float32') / 255.0\n",
        "x_test = x_test.astype('float32') / 255.0\n",
        "\n",
        "x_train = x_train.reshape(-1,28,28,1)\n",
        "x_test = x_test.reshape(-1,28,28,1)\n",
        "\n",
        "from tensorflow.keras.utils import to_categorical\n",
        "y_train = to_categorical(y_train, num_classes=10)\n",
        "y_test = to_categorical(y_test, num_classes=10)\n",
        "\n",
        "x_val = x_test[:200]\n",
        "x_test = x_test[200:]\n",
        "y_val = y_test[:200]\n",
        "y_test = y_test[200:]"
      ],
      "execution_count": 17,
      "outputs": []
    },
    {
      "cell_type": "markdown",
      "source": [
        "## Creating and Training Model"
      ],
      "metadata": {
        "id": "FvSNlsiYL7Vy"
      }
    },
    {
      "cell_type": "code",
      "metadata": {
        "colab": {
          "base_uri": "https://localhost:8080/"
        },
        "id": "OVzHxwwP7_Kb",
        "outputId": "bb09587f-bfe6-4dda-c730-392a68846444"
      },
      "source": [
        "from tensorflow.keras.models import Model\n",
        "from tensorflow.keras.layers import Dense, Dropout, Activation, Input\n",
        "from tensorflow.keras.callbacks import EarlyStopping\n",
        "\n",
        "callback = tensorflow.keras.callbacks.EarlyStopping(monitor='accuracy', patience=3)\n",
        "\n",
        "input_layer = Input((28, 28, 1))\n",
        "\n",
        "x = layers.Conv2D(filters=16, kernel_size=2, activation='relu')(input_layer)\n",
        "x = layers.MaxPooling2D((2, 2))(x)\n",
        "\n",
        "x = layers.Conv2D(filters=16, kernel_size=2, activation='relu')(x)\n",
        "x = layers.MaxPooling2D((2, 2))(x)\n",
        "\n",
        "x = layers.Conv2D(filters=32, kernel_size=2, activation='relu')(x)\n",
        "x = layers.MaxPooling2D((2, 2))(x)\n",
        "\n",
        "x = layers.Conv2D(filters=64, kernel_size=2, activation='relu')(x)\n",
        "\n",
        "x = layers.Flatten()(x)\n",
        "\n",
        "output_layer = layers.Dense(10, activation='sigmoid')(x)\n",
        "\n",
        "model = Model(input_layer, output_layer)\n",
        "\n",
        "\n",
        "model.compile(loss='categorical_crossentropy',\n",
        "              optimizer='adam',\n",
        "              metrics=['accuracy'])\n",
        "\n",
        "model.summary()"
      ],
      "execution_count": 19,
      "outputs": [
        {
          "output_type": "stream",
          "name": "stdout",
          "text": [
            "Model: \"model_2\"\n",
            "_________________________________________________________________\n",
            " Layer (type)                Output Shape              Param #   \n",
            "=================================================================\n",
            " input_4 (InputLayer)        [(None, 28, 28, 1)]       0         \n",
            "                                                                 \n",
            " conv2d_12 (Conv2D)          (None, 27, 27, 16)        80        \n",
            "                                                                 \n",
            " max_pooling2d_9 (MaxPooling  (None, 13, 13, 16)       0         \n",
            " 2D)                                                             \n",
            "                                                                 \n",
            " conv2d_13 (Conv2D)          (None, 12, 12, 16)        1040      \n",
            "                                                                 \n",
            " max_pooling2d_10 (MaxPoolin  (None, 6, 6, 16)         0         \n",
            " g2D)                                                            \n",
            "                                                                 \n",
            " conv2d_14 (Conv2D)          (None, 5, 5, 32)          2080      \n",
            "                                                                 \n",
            " max_pooling2d_11 (MaxPoolin  (None, 2, 2, 32)         0         \n",
            " g2D)                                                            \n",
            "                                                                 \n",
            " conv2d_15 (Conv2D)          (None, 1, 1, 64)          8256      \n",
            "                                                                 \n",
            " flatten_3 (Flatten)         (None, 64)                0         \n",
            "                                                                 \n",
            " dense_3 (Dense)             (None, 10)                650       \n",
            "                                                                 \n",
            "=================================================================\n",
            "Total params: 12,106\n",
            "Trainable params: 12,106\n",
            "Non-trainable params: 0\n",
            "_________________________________________________________________\n"
          ]
        }
      ]
    },
    {
      "cell_type": "code",
      "metadata": {
        "colab": {
          "base_uri": "https://localhost:8080/"
        },
        "id": "yLQU50g_FN7t",
        "outputId": "246dae1c-8324-43ab-9ea0-659c0f87ca6b"
      },
      "source": [
        "history = model.fit(x_train, y_train, epochs=100, batch_size=256, validation_split=0.2, callbacks=[callback])"
      ],
      "execution_count": 11,
      "outputs": [
        {
          "output_type": "stream",
          "name": "stdout",
          "text": [
            "Epoch 1/100\n",
            "188/188 [==============================] - 20s 101ms/step - loss: 1.0862 - accuracy: 0.6300 - val_loss: 0.6737 - val_accuracy: 0.7479\n",
            "Epoch 2/100\n",
            "188/188 [==============================] - 19s 98ms/step - loss: 0.6256 - accuracy: 0.7650 - val_loss: 0.5832 - val_accuracy: 0.7847\n",
            "Epoch 3/100\n",
            "188/188 [==============================] - 19s 99ms/step - loss: 0.5606 - accuracy: 0.7930 - val_loss: 0.5633 - val_accuracy: 0.7931\n",
            "Epoch 4/100\n",
            "188/188 [==============================] - 19s 99ms/step - loss: 0.5197 - accuracy: 0.8088 - val_loss: 0.5313 - val_accuracy: 0.8105\n",
            "Epoch 5/100\n",
            "188/188 [==============================] - 19s 99ms/step - loss: 0.4911 - accuracy: 0.8214 - val_loss: 0.4943 - val_accuracy: 0.8220\n",
            "Epoch 6/100\n",
            "188/188 [==============================] - 19s 99ms/step - loss: 0.4654 - accuracy: 0.8312 - val_loss: 0.4748 - val_accuracy: 0.8288\n",
            "Epoch 7/100\n",
            "188/188 [==============================] - 19s 99ms/step - loss: 0.4459 - accuracy: 0.8386 - val_loss: 0.4472 - val_accuracy: 0.8391\n",
            "Epoch 8/100\n",
            "188/188 [==============================] - 18s 98ms/step - loss: 0.4312 - accuracy: 0.8431 - val_loss: 0.4377 - val_accuracy: 0.8413\n",
            "Epoch 9/100\n",
            "188/188 [==============================] - 18s 98ms/step - loss: 0.4157 - accuracy: 0.8479 - val_loss: 0.4351 - val_accuracy: 0.8428\n",
            "Epoch 10/100\n",
            "188/188 [==============================] - 19s 100ms/step - loss: 0.4061 - accuracy: 0.8523 - val_loss: 0.4182 - val_accuracy: 0.8484\n",
            "Epoch 11/100\n",
            "188/188 [==============================] - 19s 99ms/step - loss: 0.3937 - accuracy: 0.8555 - val_loss: 0.4144 - val_accuracy: 0.8482\n",
            "Epoch 12/100\n",
            "188/188 [==============================] - 18s 98ms/step - loss: 0.3848 - accuracy: 0.8605 - val_loss: 0.4076 - val_accuracy: 0.8503\n",
            "Epoch 13/100\n",
            "188/188 [==============================] - 19s 99ms/step - loss: 0.3793 - accuracy: 0.8628 - val_loss: 0.4043 - val_accuracy: 0.8511\n",
            "Epoch 14/100\n",
            "188/188 [==============================] - 18s 98ms/step - loss: 0.3720 - accuracy: 0.8634 - val_loss: 0.3942 - val_accuracy: 0.8540\n",
            "Epoch 15/100\n",
            "188/188 [==============================] - 19s 100ms/step - loss: 0.3627 - accuracy: 0.8672 - val_loss: 0.3828 - val_accuracy: 0.8588\n",
            "Epoch 16/100\n",
            "188/188 [==============================] - 19s 98ms/step - loss: 0.3546 - accuracy: 0.8699 - val_loss: 0.3806 - val_accuracy: 0.8592\n",
            "Epoch 17/100\n",
            "188/188 [==============================] - 18s 98ms/step - loss: 0.3524 - accuracy: 0.8711 - val_loss: 0.3786 - val_accuracy: 0.8611\n",
            "Epoch 18/100\n",
            "188/188 [==============================] - 18s 98ms/step - loss: 0.3502 - accuracy: 0.8709 - val_loss: 0.3773 - val_accuracy: 0.8643\n",
            "Epoch 19/100\n",
            "188/188 [==============================] - 21s 113ms/step - loss: 0.3435 - accuracy: 0.8738 - val_loss: 0.3700 - val_accuracy: 0.8639\n",
            "Epoch 20/100\n",
            "188/188 [==============================] - 18s 98ms/step - loss: 0.3386 - accuracy: 0.8755 - val_loss: 0.3730 - val_accuracy: 0.8629\n",
            "Epoch 21/100\n",
            "188/188 [==============================] - 19s 99ms/step - loss: 0.3351 - accuracy: 0.8774 - val_loss: 0.3766 - val_accuracy: 0.8612\n",
            "Epoch 22/100\n",
            "188/188 [==============================] - 19s 98ms/step - loss: 0.3289 - accuracy: 0.8792 - val_loss: 0.3670 - val_accuracy: 0.8673\n",
            "Epoch 23/100\n",
            "188/188 [==============================] - 19s 99ms/step - loss: 0.3287 - accuracy: 0.8801 - val_loss: 0.3528 - val_accuracy: 0.8698\n",
            "Epoch 24/100\n",
            "188/188 [==============================] - 19s 99ms/step - loss: 0.3242 - accuracy: 0.8805 - val_loss: 0.3484 - val_accuracy: 0.8706\n",
            "Epoch 25/100\n",
            "188/188 [==============================] - 19s 100ms/step - loss: 0.3219 - accuracy: 0.8811 - val_loss: 0.3556 - val_accuracy: 0.8717\n",
            "Epoch 26/100\n",
            "188/188 [==============================] - 19s 102ms/step - loss: 0.3193 - accuracy: 0.8831 - val_loss: 0.3530 - val_accuracy: 0.8737\n",
            "Epoch 27/100\n",
            "188/188 [==============================] - 20s 109ms/step - loss: 0.3156 - accuracy: 0.8838 - val_loss: 0.3513 - val_accuracy: 0.8721\n",
            "Epoch 28/100\n",
            "188/188 [==============================] - 19s 102ms/step - loss: 0.3113 - accuracy: 0.8852 - val_loss: 0.3492 - val_accuracy: 0.8728\n",
            "Epoch 29/100\n",
            "188/188 [==============================] - 19s 100ms/step - loss: 0.3104 - accuracy: 0.8850 - val_loss: 0.3617 - val_accuracy: 0.8683\n",
            "Epoch 30/100\n",
            "188/188 [==============================] - 19s 101ms/step - loss: 0.3078 - accuracy: 0.8872 - val_loss: 0.3421 - val_accuracy: 0.8737\n",
            "Epoch 31/100\n",
            "188/188 [==============================] - 19s 100ms/step - loss: 0.3020 - accuracy: 0.8878 - val_loss: 0.3404 - val_accuracy: 0.8750\n",
            "Epoch 32/100\n",
            "188/188 [==============================] - 19s 100ms/step - loss: 0.2999 - accuracy: 0.8883 - val_loss: 0.3437 - val_accuracy: 0.8748\n",
            "Epoch 33/100\n",
            "188/188 [==============================] - 20s 108ms/step - loss: 0.2969 - accuracy: 0.8900 - val_loss: 0.3477 - val_accuracy: 0.8751\n",
            "Epoch 34/100\n",
            "188/188 [==============================] - 20s 107ms/step - loss: 0.2949 - accuracy: 0.8912 - val_loss: 0.3434 - val_accuracy: 0.8761\n",
            "Epoch 35/100\n",
            "188/188 [==============================] - 20s 105ms/step - loss: 0.2938 - accuracy: 0.8909 - val_loss: 0.3445 - val_accuracy: 0.8783\n",
            "Epoch 36/100\n",
            "188/188 [==============================] - 19s 102ms/step - loss: 0.2890 - accuracy: 0.8940 - val_loss: 0.3369 - val_accuracy: 0.8763\n",
            "Epoch 37/100\n",
            "188/188 [==============================] - 19s 103ms/step - loss: 0.2887 - accuracy: 0.8932 - val_loss: 0.3394 - val_accuracy: 0.8776\n",
            "Epoch 38/100\n",
            "188/188 [==============================] - 18s 98ms/step - loss: 0.2860 - accuracy: 0.8936 - val_loss: 0.3343 - val_accuracy: 0.8801\n",
            "Epoch 39/100\n",
            "188/188 [==============================] - 20s 107ms/step - loss: 0.2829 - accuracy: 0.8948 - val_loss: 0.3392 - val_accuracy: 0.8779\n",
            "Epoch 40/100\n",
            "188/188 [==============================] - 18s 98ms/step - loss: 0.2810 - accuracy: 0.8961 - val_loss: 0.3314 - val_accuracy: 0.8804\n",
            "Epoch 41/100\n",
            "188/188 [==============================] - 18s 97ms/step - loss: 0.2804 - accuracy: 0.8964 - val_loss: 0.3354 - val_accuracy: 0.8778\n",
            "Epoch 42/100\n",
            "188/188 [==============================] - 21s 112ms/step - loss: 0.2807 - accuracy: 0.8967 - val_loss: 0.3366 - val_accuracy: 0.8752\n",
            "Epoch 43/100\n",
            "188/188 [==============================] - 19s 101ms/step - loss: 0.2755 - accuracy: 0.8976 - val_loss: 0.3356 - val_accuracy: 0.8773\n",
            "Epoch 44/100\n",
            "188/188 [==============================] - 20s 107ms/step - loss: 0.2741 - accuracy: 0.8977 - val_loss: 0.3283 - val_accuracy: 0.8804\n",
            "Epoch 45/100\n",
            "188/188 [==============================] - 20s 104ms/step - loss: 0.2719 - accuracy: 0.8984 - val_loss: 0.3449 - val_accuracy: 0.8793\n",
            "Epoch 46/100\n",
            "188/188 [==============================] - 20s 108ms/step - loss: 0.2700 - accuracy: 0.9008 - val_loss: 0.3294 - val_accuracy: 0.8796\n",
            "Epoch 47/100\n",
            "188/188 [==============================] - 20s 104ms/step - loss: 0.2708 - accuracy: 0.8992 - val_loss: 0.3268 - val_accuracy: 0.8819\n",
            "Epoch 48/100\n",
            "188/188 [==============================] - 19s 104ms/step - loss: 0.2639 - accuracy: 0.9028 - val_loss: 0.3420 - val_accuracy: 0.8792\n",
            "Epoch 49/100\n",
            "188/188 [==============================] - 19s 102ms/step - loss: 0.2639 - accuracy: 0.9029 - val_loss: 0.3246 - val_accuracy: 0.8819\n",
            "Epoch 50/100\n",
            "188/188 [==============================] - 19s 99ms/step - loss: 0.2611 - accuracy: 0.9037 - val_loss: 0.3317 - val_accuracy: 0.8778\n",
            "Epoch 51/100\n",
            "188/188 [==============================] - 19s 99ms/step - loss: 0.2607 - accuracy: 0.9040 - val_loss: 0.3394 - val_accuracy: 0.8805\n",
            "Epoch 52/100\n",
            "188/188 [==============================] - 18s 98ms/step - loss: 0.2599 - accuracy: 0.9030 - val_loss: 0.3203 - val_accuracy: 0.8867\n",
            "Epoch 53/100\n",
            "188/188 [==============================] - 19s 102ms/step - loss: 0.2590 - accuracy: 0.9038 - val_loss: 0.3271 - val_accuracy: 0.8842\n",
            "Epoch 54/100\n",
            "188/188 [==============================] - 19s 99ms/step - loss: 0.2588 - accuracy: 0.9033 - val_loss: 0.3375 - val_accuracy: 0.8799\n"
          ]
        }
      ]
    },
    {
      "cell_type": "markdown",
      "source": [
        "## Model Evaluation"
      ],
      "metadata": {
        "id": "QCI976T1MEBn"
      }
    },
    {
      "cell_type": "code",
      "metadata": {
        "colab": {
          "base_uri": "https://localhost:8080/",
          "height": 282
        },
        "id": "3yF0EDP_9a2T",
        "outputId": "4bd4efde-aa45-4cfa-805a-0c055da34664"
      },
      "source": [
        "history_df = pd.DataFrame(history.history)\n",
        "history_df.loc[0:, ['loss', 'val_loss']].plot()"
      ],
      "execution_count": 12,
      "outputs": [
        {
          "output_type": "execute_result",
          "data": {
            "text/plain": [
              "<matplotlib.axes._subplots.AxesSubplot at 0x7f7b903df040>"
            ]
          },
          "metadata": {},
          "execution_count": 12
        },
        {
          "output_type": "display_data",
          "data": {
            "text/plain": [
              "<Figure size 432x288 with 1 Axes>"
            ],
            "image/png": "[encoded data removed]"
          },
          "metadata": {
            "needs_background": "light"
          }
        }
      ]
    },
    {
      "cell_type": "code",
      "metadata": {
        "colab": {
          "base_uri": "https://localhost:8080/",
          "height": 282
        },
        "id": "V0HAXRFp89Py",
        "outputId": "4e85802e-131c-40e2-adac-06ecef00e629"
      },
      "source": [
        "history_df = pd.DataFrame(history.history)\n",
        "history_df.loc[0:, ['accuracy', 'val_accuracy']].plot()"
      ],
      "execution_count": 13,
      "outputs": [
        {
          "output_type": "execute_result",
          "data": {
            "text/plain": [
              "<matplotlib.axes._subplots.AxesSubplot at 0x7f7b982d9760>"
            ]
          },
          "metadata": {},
          "execution_count": 13
        },
        {
          "output_type": "display_data",
          "data": {
            "text/plain": [
              "<Figure size 432x288 with 1 Axes>"
            ],
            "image/png": "[encoded data removed]"
          },
          "metadata": {
            "needs_background": "light"
          }
        }
      ]
    },
    {
      "cell_type": "code",
      "metadata": {
        "id": "NEgtxP9Omz4Q"
      },
      "source": [
        "model.save('model.h5')"
      ],
      "execution_count": null,
      "outputs": []
    }
  ]
}