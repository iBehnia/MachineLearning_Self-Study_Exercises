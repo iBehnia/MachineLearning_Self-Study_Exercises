{
  "nbformat": 4,
  "nbformat_minor": 0,
  "metadata": {
    "colab": {
      "provenance": []
    },
    "kernelspec": {
      "name": "python3",
      "display_name": "Python 3"
    },
    "language_info": {
      "name": "python"
    }
  },
  "cells": [
    {
      "cell_type": "code",
      "execution_count": 9,
      "metadata": {
        "id": "tf_H5U_9iN3E"
      },
      "outputs": [],
      "source": [
        "import tensorflow as tf\n",
        "import numpy as np\n",
        "import pandas as pd\n",
        "import matplotlib.pyplot as plt\n",
        "%matplotlib inline"
      ]
    },
    {
      "cell_type": "markdown",
      "source": [
        "##Loading Data"
      ],
      "metadata": {
        "id": "sbzp33iHvdbB"
      }
    },
    {
      "cell_type": "code",
      "source": [
        "(train_data, train_labels), (test_data, test_labels) = tf.keras.datasets.mnist.load_data()\n"
      ],
      "metadata": {
        "id": "hzCXxOFpjW5P"
      },
      "execution_count": 10,
      "outputs": []
    },
    {
      "cell_type": "code",
      "source": [
        "type(train_data), train_data.dtype, train_data.shape"
      ],
      "metadata": {
        "colab": {
          "base_uri": "https://localhost:8080/"
        },
        "id": "xXPNyDNtjXj_",
        "outputId": "ab4a2ddf-dd32-4452-bed0-303f2da16309"
      },
      "execution_count": 11,
      "outputs": [
        {
          "output_type": "execute_result",
          "data": {
            "text/plain": [
              "(numpy.ndarray, dtype('uint8'), (60000, 28, 28))"
            ]
          },
          "metadata": {},
          "execution_count": 11
        }
      ]
    },
    {
      "cell_type": "code",
      "source": [
        "type(train_labels), train_labels.dtype, train_labels.shape"
      ],
      "metadata": {
        "colab": {
          "base_uri": "https://localhost:8080/"
        },
        "id": "9TBit8c0jZEF",
        "outputId": "f9ff09ac-dfc3-4340-966f-282352358d4f"
      },
      "execution_count": 12,
      "outputs": [
        {
          "output_type": "execute_result",
          "data": {
            "text/plain": [
              "(numpy.ndarray, dtype('uint8'), (60000,))"
            ]
          },
          "metadata": {},
          "execution_count": 12
        }
      ]
    },
    {
      "cell_type": "code",
      "source": [
        "plt.imshow(train_data[1])"
      ],
      "metadata": {
        "colab": {
          "base_uri": "https://localhost:8080/",
          "height": 282
        },
        "id": "MtmfasTojfMM",
        "outputId": "e4fa7a8a-0039-4710-c831-92d37fe43986"
      },
      "execution_count": 13,
      "outputs": [
        {
          "output_type": "execute_result",
          "data": {
            "text/plain": [
              "<matplotlib.image.AxesImage at 0x7f39d1b636d0>"
            ]
          },
          "metadata": {},
          "execution_count": 13
        },
        {
          "output_type": "display_data",
          "data": {
            "text/plain": [
              "<Figure size 432x288 with 1 Axes>"
            ],
            "image/png": "[encoded data removed]"
          },
          "metadata": {
            "needs_background": "light"
          }
        }
      ]
    },
    {
      "cell_type": "code",
      "source": [
        "train_labels[1]"
      ],
      "metadata": {
        "colab": {
          "base_uri": "https://localhost:8080/"
        },
        "id": "Q3EWSEy2jkXg",
        "outputId": "7c8a0169-5a5c-473d-bbec-fd751645e24f"
      },
      "execution_count": 14,
      "outputs": [
        {
          "output_type": "execute_result",
          "data": {
            "text/plain": [
              "0"
            ]
          },
          "metadata": {},
          "execution_count": 14
        }
      ]
    },
    {
      "cell_type": "markdown",
      "source": [
        "## Some Preprocessing"
      ],
      "metadata": {
        "id": "HAD1WjqevnQE"
      }
    },
    {
      "cell_type": "code",
      "source": [
        "train_data = np.reshape(train_data, newshape=(-1, 28 * 28))\n",
        "train_data.shape, train_data.dtype\n"
      ],
      "metadata": {
        "colab": {
          "base_uri": "https://localhost:8080/"
        },
        "id": "XWP66o23j2jf",
        "outputId": "4fe0657b-ba9f-43e7-b919-e91a86c211d7"
      },
      "execution_count": 31,
      "outputs": [
        {
          "output_type": "execute_result",
          "data": {
            "text/plain": [
              "((60000, 784), dtype('float32'))"
            ]
          },
          "metadata": {},
          "execution_count": 31
        }
      ]
    },
    {
      "cell_type": "code",
      "source": [
        "test_data = np.reshape(test_data, newshape=(-1, 28 * 28))\n",
        "test_data.shape, test_data.dtype"
      ],
      "metadata": {
        "colab": {
          "base_uri": "https://localhost:8080/"
        },
        "id": "m1IODZ0mj3Yy",
        "outputId": "50aaf62c-19fb-415b-ef3d-cf8110d73545"
      },
      "execution_count": 16,
      "outputs": [
        {
          "output_type": "execute_result",
          "data": {
            "text/plain": [
              "((10000, 784), dtype('uint8'))"
            ]
          },
          "metadata": {},
          "execution_count": 16
        }
      ]
    },
    {
      "cell_type": "code",
      "source": [
        "from tensorflow.keras.utils import to_categorical\n",
        "train_labels = to_categorical(train_labels, num_classes=10)\n",
        "train_labels.shape, train_labels.dtype"
      ],
      "metadata": {
        "colab": {
          "base_uri": "https://localhost:8080/"
        },
        "id": "xbtLexRPj3tG",
        "outputId": "aa156914-c7eb-4e90-dc27-c89c0ac703e1"
      },
      "execution_count": 17,
      "outputs": [
        {
          "output_type": "execute_result",
          "data": {
            "text/plain": [
              "((60000, 10), dtype('float32'))"
            ]
          },
          "metadata": {},
          "execution_count": 17
        }
      ]
    },
    {
      "cell_type": "code",
      "source": [
        "test_labels = to_categorical(test_labels, num_classes=10)\n",
        "test_labels.shape, train_labels.dtype"
      ],
      "metadata": {
        "colab": {
          "base_uri": "https://localhost:8080/"
        },
        "id": "XddSLta_j3zA",
        "outputId": "5ccbd1ec-1f08-46b9-e731-401ce6a093e1"
      },
      "execution_count": 18,
      "outputs": [
        {
          "output_type": "execute_result",
          "data": {
            "text/plain": [
              "((10000, 10), dtype('float32'))"
            ]
          },
          "metadata": {},
          "execution_count": 18
        }
      ]
    },
    {
      "cell_type": "code",
      "source": [
        "train_data = train_data.astype('float32') / 255.0\n",
        "train_data.shape, train_data.dtype"
      ],
      "metadata": {
        "colab": {
          "base_uri": "https://localhost:8080/"
        },
        "id": "OEgd-iU4j33h",
        "outputId": "997d7cf9-6871-4445-a944-b16b975cc11b"
      },
      "execution_count": 19,
      "outputs": [
        {
          "output_type": "execute_result",
          "data": {
            "text/plain": [
              "((60000, 784), dtype('float32'))"
            ]
          },
          "metadata": {},
          "execution_count": 19
        }
      ]
    },
    {
      "cell_type": "code",
      "source": [
        "test_data = test_data.astype('float32') / 255.0\n",
        "test_data.shape, test_data.dtype"
      ],
      "metadata": {
        "colab": {
          "base_uri": "https://localhost:8080/"
        },
        "id": "SnrJ05wOj37r",
        "outputId": "bc5e3d75-f7e5-4eca-e78e-d88cd821d918"
      },
      "execution_count": 20,
      "outputs": [
        {
          "output_type": "execute_result",
          "data": {
            "text/plain": [
              "((10000, 784), dtype('float32'))"
            ]
          },
          "metadata": {},
          "execution_count": 20
        }
      ]
    },
    {
      "cell_type": "code",
      "source": [
        "train_data.mean(), test_data.mean()"
      ],
      "metadata": {
        "colab": {
          "base_uri": "https://localhost:8080/"
        },
        "id": "KCkmRtXAj3_g",
        "outputId": "778e75ce-5e85-4fb5-c28f-20babcd02b25"
      },
      "execution_count": 21,
      "outputs": [
        {
          "output_type": "execute_result",
          "data": {
            "text/plain": [
              "(0.13066062, 0.13251467)"
            ]
          },
          "metadata": {},
          "execution_count": 21
        }
      ]
    },
    {
      "cell_type": "markdown",
      "source": [
        "##Creating and Training Model"
      ],
      "metadata": {
        "id": "a0vwMDNZv75k"
      }
    },
    {
      "cell_type": "code",
      "source": [
        "from tensorflow.keras.models import Model\n",
        "from tensorflow.keras.layers import Input, Dense, Dropout\n",
        "\n",
        "input_layer = Input(shape=(784,))\n",
        "x = Dense(units=512, activation='relu')(input_layer)\n",
        "x = Dropout(0.3)(x)\n",
        "x = Dense(units=256, activation='relu')(x)\n",
        "x = Dropout(0.3)(x)\n",
        "x = Dense(units=128, activation='relu')(x)\n",
        "x = Dropout(0.3)(x)\n",
        "predictions = Dense(units=10, activation='softmax')(x)\n",
        "\n",
        "my_model = Model(inputs=input_layer, outputs=predictions)\n",
        "\n",
        "my_model.summary()"
      ],
      "metadata": {
        "colab": {
          "base_uri": "https://localhost:8080/"
        },
        "id": "GYZSYRwsj4Dj",
        "outputId": "1b74a105-f28d-4de7-9fc3-1fa1d1d0faa1"
      },
      "execution_count": 22,
      "outputs": [
        {
          "output_type": "stream",
          "name": "stdout",
          "text": [
            "Model: \"model\"\n",
            "_________________________________________________________________\n",
            " Layer (type)                Output Shape              Param #   \n",
            "=================================================================\n",
            " input_1 (InputLayer)        [(None, 784)]             0         \n",
            "                                                                 \n",
            " dense (Dense)               (None, 512)               401920    \n",
            "                                                                 \n",
            " dropout (Dropout)           (None, 512)               0         \n",
            "                                                                 \n",
            " dense_1 (Dense)             (None, 256)               131328    \n",
            "                                                                 \n",
            " dropout_1 (Dropout)         (None, 256)               0         \n",
            "                                                                 \n",
            " dense_2 (Dense)             (None, 128)               32896     \n",
            "                                                                 \n",
            " dropout_2 (Dropout)         (None, 128)               0         \n",
            "                                                                 \n",
            " dense_3 (Dense)             (None, 10)                1290      \n",
            "                                                                 \n",
            "=================================================================\n",
            "Total params: 567,434\n",
            "Trainable params: 567,434\n",
            "Non-trainable params: 0\n",
            "_________________________________________________________________\n"
          ]
        }
      ]
    },
    {
      "cell_type": "code",
      "source": [
        "from tensorflow.keras.optimizers import SGD, Adam\n",
        "\n",
        "my_model.compile(optimizer=Adam(learning_rate=0.0001),\n",
        "                                   loss='categorical_crossentropy',\n",
        "                                   metrics=['accuracy'])\n",
        "\n",
        "my_model.fit(x=train_data, y=train_labels,\n",
        "                              batch_size=32, epochs=50, shuffle=True,\n",
        "                              validation_data=(test_data, test_labels))"
      ],
      "metadata": {
        "colab": {
          "base_uri": "https://localhost:8080/"
        },
        "id": "LTjrt4n8mY70",
        "outputId": "afa74021-741c-4e2d-dd43-71a26bdec082"
      },
      "execution_count": 23,
      "outputs": [
        {
          "output_type": "stream",
          "name": "stdout",
          "text": [
            "Epoch 1/50\n",
            "1875/1875 [==============================] - 13s 7ms/step - loss: 0.6131 - accuracy: 0.8120 - val_loss: 0.2023 - val_accuracy: 0.9395\n",
            "Epoch 2/50\n",
            "1875/1875 [==============================] - 18s 10ms/step - loss: 0.2434 - accuracy: 0.9291 - val_loss: 0.1431 - val_accuracy: 0.9545\n",
            "Epoch 3/50\n",
            "1875/1875 [==============================] - 18s 10ms/step - loss: 0.1761 - accuracy: 0.9486 - val_loss: 0.1097 - val_accuracy: 0.9666\n",
            "Epoch 4/50\n",
            "1875/1875 [==============================] - 15s 8ms/step - loss: 0.1387 - accuracy: 0.9592 - val_loss: 0.0949 - val_accuracy: 0.9688\n",
            "Epoch 5/50\n",
            "1875/1875 [==============================] - 14s 7ms/step - loss: 0.1143 - accuracy: 0.9657 - val_loss: 0.0824 - val_accuracy: 0.9746\n",
            "Epoch 6/50\n",
            "1875/1875 [==============================] - 14s 8ms/step - loss: 0.0962 - accuracy: 0.9709 - val_loss: 0.0741 - val_accuracy: 0.9774\n",
            "Epoch 7/50\n",
            "1875/1875 [==============================] - 13s 7ms/step - loss: 0.0831 - accuracy: 0.9749 - val_loss: 0.0707 - val_accuracy: 0.9783\n",
            "Epoch 8/50\n",
            "1875/1875 [==============================] - 14s 7ms/step - loss: 0.0745 - accuracy: 0.9775 - val_loss: 0.0644 - val_accuracy: 0.9804\n",
            "Epoch 9/50\n",
            "1875/1875 [==============================] - 14s 7ms/step - loss: 0.0641 - accuracy: 0.9808 - val_loss: 0.0640 - val_accuracy: 0.9808\n",
            "Epoch 10/50\n",
            "1875/1875 [==============================] - 13s 7ms/step - loss: 0.0550 - accuracy: 0.9837 - val_loss: 0.0636 - val_accuracy: 0.9812\n",
            "Epoch 11/50\n",
            "1875/1875 [==============================] - 13s 7ms/step - loss: 0.0525 - accuracy: 0.9833 - val_loss: 0.0617 - val_accuracy: 0.9813\n",
            "Epoch 12/50\n",
            "1875/1875 [==============================] - 13s 7ms/step - loss: 0.0463 - accuracy: 0.9855 - val_loss: 0.0622 - val_accuracy: 0.9824\n",
            "Epoch 13/50\n",
            "1875/1875 [==============================] - 14s 7ms/step - loss: 0.0413 - accuracy: 0.9875 - val_loss: 0.0595 - val_accuracy: 0.9823\n",
            "Epoch 14/50\n",
            "1875/1875 [==============================] - 13s 7ms/step - loss: 0.0375 - accuracy: 0.9882 - val_loss: 0.0585 - val_accuracy: 0.9831\n",
            "Epoch 15/50\n",
            "1875/1875 [==============================] - 13s 7ms/step - loss: 0.0350 - accuracy: 0.9890 - val_loss: 0.0572 - val_accuracy: 0.9835\n",
            "Epoch 16/50\n",
            "1875/1875 [==============================] - 13s 7ms/step - loss: 0.0315 - accuracy: 0.9898 - val_loss: 0.0577 - val_accuracy: 0.9832\n",
            "Epoch 17/50\n",
            "1875/1875 [==============================] - 14s 7ms/step - loss: 0.0310 - accuracy: 0.9904 - val_loss: 0.0617 - val_accuracy: 0.9836\n",
            "Epoch 18/50\n",
            "1875/1875 [==============================] - 13s 7ms/step - loss: 0.0270 - accuracy: 0.9912 - val_loss: 0.0630 - val_accuracy: 0.9830\n",
            "Epoch 19/50\n",
            "1875/1875 [==============================] - 14s 7ms/step - loss: 0.0267 - accuracy: 0.9914 - val_loss: 0.0576 - val_accuracy: 0.9845\n",
            "Epoch 20/50\n",
            "1875/1875 [==============================] - 13s 7ms/step - loss: 0.0232 - accuracy: 0.9930 - val_loss: 0.0664 - val_accuracy: 0.9825\n",
            "Epoch 21/50\n",
            "1875/1875 [==============================] - 13s 7ms/step - loss: 0.0208 - accuracy: 0.9934 - val_loss: 0.0604 - val_accuracy: 0.9850\n",
            "Epoch 22/50\n",
            "1875/1875 [==============================] - 13s 7ms/step - loss: 0.0220 - accuracy: 0.9931 - val_loss: 0.0611 - val_accuracy: 0.9838\n",
            "Epoch 23/50\n",
            "1875/1875 [==============================] - 17s 9ms/step - loss: 0.0204 - accuracy: 0.9932 - val_loss: 0.0667 - val_accuracy: 0.9830\n",
            "Epoch 24/50\n",
            "1875/1875 [==============================] - 13s 7ms/step - loss: 0.0178 - accuracy: 0.9944 - val_loss: 0.0647 - val_accuracy: 0.9833\n",
            "Epoch 25/50\n",
            "1875/1875 [==============================] - 13s 7ms/step - loss: 0.0179 - accuracy: 0.9942 - val_loss: 0.0624 - val_accuracy: 0.9847\n",
            "Epoch 26/50\n",
            "1875/1875 [==============================] - 12s 7ms/step - loss: 0.0171 - accuracy: 0.9944 - val_loss: 0.0647 - val_accuracy: 0.9838\n",
            "Epoch 27/50\n",
            "1875/1875 [==============================] - 13s 7ms/step - loss: 0.0153 - accuracy: 0.9952 - val_loss: 0.0662 - val_accuracy: 0.9839\n",
            "Epoch 28/50\n",
            "1875/1875 [==============================] - 13s 7ms/step - loss: 0.0147 - accuracy: 0.9949 - val_loss: 0.0680 - val_accuracy: 0.9837\n",
            "Epoch 29/50\n",
            "1875/1875 [==============================] - 13s 7ms/step - loss: 0.0158 - accuracy: 0.9949 - val_loss: 0.0684 - val_accuracy: 0.9847\n",
            "Epoch 30/50\n",
            "1875/1875 [==============================] - 13s 7ms/step - loss: 0.0139 - accuracy: 0.9956 - val_loss: 0.0673 - val_accuracy: 0.9841\n",
            "Epoch 31/50\n",
            "1875/1875 [==============================] - 13s 7ms/step - loss: 0.0128 - accuracy: 0.9961 - val_loss: 0.0729 - val_accuracy: 0.9846\n",
            "Epoch 32/50\n",
            "1875/1875 [==============================] - 13s 7ms/step - loss: 0.0126 - accuracy: 0.9959 - val_loss: 0.0650 - val_accuracy: 0.9844\n",
            "Epoch 33/50\n",
            "1875/1875 [==============================] - 13s 7ms/step - loss: 0.0110 - accuracy: 0.9964 - val_loss: 0.0722 - val_accuracy: 0.9839\n",
            "Epoch 34/50\n",
            "1875/1875 [==============================] - 14s 7ms/step - loss: 0.0129 - accuracy: 0.9959 - val_loss: 0.0750 - val_accuracy: 0.9842\n",
            "Epoch 35/50\n",
            "1875/1875 [==============================] - 14s 8ms/step - loss: 0.0122 - accuracy: 0.9962 - val_loss: 0.0737 - val_accuracy: 0.9843\n",
            "Epoch 36/50\n",
            "1875/1875 [==============================] - 14s 7ms/step - loss: 0.0102 - accuracy: 0.9969 - val_loss: 0.0741 - val_accuracy: 0.9853\n",
            "Epoch 37/50\n",
            "1875/1875 [==============================] - 13s 7ms/step - loss: 0.0106 - accuracy: 0.9968 - val_loss: 0.0793 - val_accuracy: 0.9841\n",
            "Epoch 38/50\n",
            "1875/1875 [==============================] - 14s 7ms/step - loss: 0.0106 - accuracy: 0.9966 - val_loss: 0.0725 - val_accuracy: 0.9852\n",
            "Epoch 39/50\n",
            "1875/1875 [==============================] - 14s 7ms/step - loss: 0.0097 - accuracy: 0.9968 - val_loss: 0.0695 - val_accuracy: 0.9846\n",
            "Epoch 40/50\n",
            "1875/1875 [==============================] - 14s 7ms/step - loss: 0.0111 - accuracy: 0.9965 - val_loss: 0.0739 - val_accuracy: 0.9843\n",
            "Epoch 41/50\n",
            "1875/1875 [==============================] - 14s 7ms/step - loss: 0.0093 - accuracy: 0.9970 - val_loss: 0.0758 - val_accuracy: 0.9852\n",
            "Epoch 42/50\n",
            "1875/1875 [==============================] - 14s 7ms/step - loss: 0.0091 - accuracy: 0.9970 - val_loss: 0.0778 - val_accuracy: 0.9839\n",
            "Epoch 43/50\n",
            "1875/1875 [==============================] - 13s 7ms/step - loss: 0.0101 - accuracy: 0.9968 - val_loss: 0.0717 - val_accuracy: 0.9854\n",
            "Epoch 44/50\n",
            "1875/1875 [==============================] - 13s 7ms/step - loss: 0.0096 - accuracy: 0.9969 - val_loss: 0.0772 - val_accuracy: 0.9847\n",
            "Epoch 45/50\n",
            "1875/1875 [==============================] - 17s 9ms/step - loss: 0.0089 - accuracy: 0.9969 - val_loss: 0.0754 - val_accuracy: 0.9846\n",
            "Epoch 46/50\n",
            "1875/1875 [==============================] - 13s 7ms/step - loss: 0.0098 - accuracy: 0.9966 - val_loss: 0.0743 - val_accuracy: 0.9851\n",
            "Epoch 47/50\n",
            "1875/1875 [==============================] - 13s 7ms/step - loss: 0.0090 - accuracy: 0.9971 - val_loss: 0.0770 - val_accuracy: 0.9839\n",
            "Epoch 48/50\n",
            "1875/1875 [==============================] - 14s 7ms/step - loss: 0.0081 - accuracy: 0.9973 - val_loss: 0.0840 - val_accuracy: 0.9850\n",
            "Epoch 49/50\n",
            "1875/1875 [==============================] - 13s 7ms/step - loss: 0.0083 - accuracy: 0.9975 - val_loss: 0.0852 - val_accuracy: 0.9845\n",
            "Epoch 50/50\n",
            "1875/1875 [==============================] - 14s 7ms/step - loss: 0.0082 - accuracy: 0.9974 - val_loss: 0.0739 - val_accuracy: 0.9859\n"
          ]
        },
        {
          "output_type": "execute_result",
          "data": {
            "text/plain": [
              "<keras.callbacks.History at 0x7f39cd5368e0>"
            ]
          },
          "metadata": {},
          "execution_count": 23
        }
      ]
    },
    {
      "cell_type": "markdown",
      "source": [
        "##Model Evaluation"
      ],
      "metadata": {
        "id": "ElEgMr_5wlYF"
      }
    },
    {
      "cell_type": "code",
      "source": [
        "model_loss_history = pd.DataFrame({'loss': my_model.history.history['loss'],\n",
        "                                   'val_loss': my_model.history.history['val_loss']})\n",
        "model_loss_history.plot()"
      ],
      "metadata": {
        "colab": {
          "base_uri": "https://localhost:8080/",
          "height": 282
        },
        "id": "furgfn7rmZCD",
        "outputId": "5c300cba-5d73-4dc4-a10f-79da030c6e1f"
      },
      "execution_count": 25,
      "outputs": [
        {
          "output_type": "execute_result",
          "data": {
            "text/plain": [
              "<matplotlib.axes._subplots.AxesSubplot at 0x7f39c9cf4d90>"
            ]
          },
          "metadata": {},
          "execution_count": 25
        },
        {
          "output_type": "display_data",
          "data": {
            "text/plain": [
              "<Figure size 432x288 with 1 Axes>"
            ],
            "image/png": "[encoded data removed]"
          },
          "metadata": {
            "needs_background": "light"
          }
        }
      ]
    },
    {
      "cell_type": "code",
      "source": [
        "model_loss_history['val_loss'].min()"
      ],
      "metadata": {
        "colab": {
          "base_uri": "https://localhost:8080/"
        },
        "id": "Z40gL8JTmZGy",
        "outputId": "f0f5d796-91d7-4314-eac9-a76e9401820b"
      },
      "execution_count": 26,
      "outputs": [
        {
          "output_type": "execute_result",
          "data": {
            "text/plain": [
              "0.05724107846617699"
            ]
          },
          "metadata": {},
          "execution_count": 26
        }
      ]
    },
    {
      "cell_type": "code",
      "source": [
        "model_accuracy_history = pd.DataFrame({'accuracy': my_model.history.history['accuracy'],\n",
        "                                       'val_accuracy': my_model.history.history['val_accuracy']})\n",
        "\n",
        "model_accuracy_history.plot()"
      ],
      "metadata": {
        "colab": {
          "base_uri": "https://localhost:8080/",
          "height": 282
        },
        "id": "QR3zevKZmZLg",
        "outputId": "346b8398-2dea-4bae-f80f-c77351367ab0"
      },
      "execution_count": 27,
      "outputs": [
        {
          "output_type": "execute_result",
          "data": {
            "text/plain": [
              "<matplotlib.axes._subplots.AxesSubplot at 0x7f39cd326760>"
            ]
          },
          "metadata": {},
          "execution_count": 27
        },
        {
          "output_type": "display_data",
          "data": {
            "text/plain": [
              "<Figure size 432x288 with 1 Axes>"
            ],
            "image/png": "[encoded data removed]"
          },
          "metadata": {
            "needs_background": "light"
          }
        }
      ]
    },
    {
      "cell_type": "code",
      "source": [
        "model_accuracy_history['val_accuracy'].max()"
      ],
      "metadata": {
        "colab": {
          "base_uri": "https://localhost:8080/"
        },
        "id": "idNh9vGcmZPf",
        "outputId": "a8ba9c34-919f-4f70-d0eb-449866e39969"
      },
      "execution_count": 28,
      "outputs": [
        {
          "output_type": "execute_result",
          "data": {
            "text/plain": [
              "0.9858999848365784"
            ]
          },
          "metadata": {},
          "execution_count": 28
        }
      ]
    },
    {
      "cell_type": "code",
      "source": [
        "my_model.evaluate(x=test_data, y=test_labels)"
      ],
      "metadata": {
        "colab": {
          "base_uri": "https://localhost:8080/"
        },
        "id": "e6QVN5mhmZTB",
        "outputId": "ae6ac5b1-ea74-4219-99ab-9b8c28353573"
      },
      "execution_count": 29,
      "outputs": [
        {
          "output_type": "stream",
          "name": "stdout",
          "text": [
            "313/313 [==============================] - 1s 3ms/step - loss: 0.0739 - accuracy: 0.9859\n"
          ]
        },
        {
          "output_type": "execute_result",
          "data": {
            "text/plain": [
              "[0.07393412292003632, 0.9858999848365784]"
            ]
          },
          "metadata": {},
          "execution_count": 29
        }
      ]
    }
  ]
}