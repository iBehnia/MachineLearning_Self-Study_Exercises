{
  "cells": [
    {
      "cell_type": "code",
      "execution_count": 1,
      "metadata": {
        "id": "BYChQzKjn9x2"
      },
      "outputs": [],
      "source": [
        "import numpy as np\n",
        "import pandas as pd\n",
        "import tensorflow as tf\n",
        "import matplotlib.pyplot as plt"
      ]
    },
    {
      "cell_type": "markdown",
      "metadata": {
        "id": "7d_nRr56yLRL"
      },
      "source": [
        "### Loading Data"
      ]
    },
    {
      "cell_type": "code",
      "execution_count": 2,
      "metadata": {
        "colab": {
          "base_uri": "https://localhost:8080/"
        },
        "id": "5i5JwXJhoJGb",
        "outputId": "175b82df-ad34-471f-b65c-c490877c5b37"
      },
      "outputs": [
        {
          "name": "stdout",
          "output_type": "stream",
          "text": [
            "Downloading data from https://storage.googleapis.com/tensorflow/tf-keras-datasets/boston_housing.npz\n",
            "57026/57026 [==============================] - 0s 0us/step\n"
          ]
        }
      ],
      "source": [
        "(train_data, train_labels), (test_data, test_labels) = tf.keras.datasets.boston_housing.load_data()"
      ]
    },
    {
      "cell_type": "code",
      "execution_count": 3,
      "metadata": {
        "colab": {
          "base_uri": "https://localhost:8080/"
        },
        "id": "0ndobnU5oJKY",
        "outputId": "9de377c5-b31e-48dc-f2ed-d0666c3e5249"
      },
      "outputs": [
        {
          "data": {
            "text/plain": [
              "(numpy.ndarray, dtype('float64'), (404, 13))"
            ]
          },
          "execution_count": 3,
          "metadata": {},
          "output_type": "execute_result"
        }
      ],
      "source": [
        "type(train_data), train_data.dtype, train_data.shape"
      ]
    },
    {
      "cell_type": "code",
      "execution_count": 4,
      "metadata": {
        "colab": {
          "base_uri": "https://localhost:8080/"
        },
        "id": "3fLsOganoJOC",
        "outputId": "bbc134b5-6cef-4886-8a1a-df5eafa68b2d"
      },
      "outputs": [
        {
          "data": {
            "text/plain": [
              "(numpy.ndarray, dtype('float64'), (404,))"
            ]
          },
          "execution_count": 4,
          "metadata": {},
          "output_type": "execute_result"
        }
      ],
      "source": [
        "type(train_labels), train_labels.dtype, train_labels.shape"
      ]
    },
    {
      "cell_type": "code",
      "execution_count": 5,
      "metadata": {
        "colab": {
          "base_uri": "https://localhost:8080/"
        },
        "id": "776j4nafoJRZ",
        "outputId": "6530b316-63a7-4523-c24a-e503cc0bd877"
      },
      "outputs": [
        {
          "data": {
            "text/plain": [
              "((404, 1), (102, 1))"
            ]
          },
          "execution_count": 5,
          "metadata": {},
          "output_type": "execute_result"
        }
      ],
      "source": [
        "train_labels = np.reshape(train_labels, newshape=(-1, 1))\n",
        "test_labels = np.reshape(test_labels, newshape=(-1, 1))\n",
        "train_labels.shape, test_labels.shape"
      ]
    },
    {
      "cell_type": "code",
      "execution_count": 6,
      "metadata": {
        "colab": {
          "base_uri": "https://localhost:8080/"
        },
        "id": "HeG9dZj5oJUt",
        "outputId": "5d16cf91-72d2-44a0-dc6d-1657acc24b0c"
      },
      "outputs": [
        {
          "data": {
            "text/plain": [
              "(50.0, 5.0)"
            ]
          },
          "execution_count": 6,
          "metadata": {},
          "output_type": "execute_result"
        }
      ],
      "source": [
        "np.max(train_labels), np.min(train_labels)"
      ]
    },
    {
      "cell_type": "markdown",
      "metadata": {
        "id": "FIlAZ3aZyU-J"
      },
      "source": [
        "### Some Preprocessing"
      ]
    },
    {
      "cell_type": "code",
      "execution_count": 7,
      "metadata": {
        "id": "xH7Hdm1aoJXZ"
      },
      "outputs": [],
      "source": [
        "from sklearn.preprocessing import MinMaxScaler\n",
        "\n",
        "my_scaler = MinMaxScaler()\n",
        "my_scaler.fit(train_data)\n",
        "\n",
        "train_data = my_scaler.transform(train_data)\n",
        "test_data = my_scaler.transform(test_data)"
      ]
    },
    {
      "cell_type": "markdown",
      "metadata": {
        "id": "Wz1wtDe2zxjQ"
      },
      "source": [
        "### Creating and Training Model"
      ]
    },
    {
      "cell_type": "code",
      "execution_count": 9,
      "metadata": {
        "colab": {
          "base_uri": "https://localhost:8080/"
        },
        "id": "Bd90rDpgoJaG",
        "outputId": "2dac54ae-15aa-4826-ed60-6f8e9b726dee"
      },
      "outputs": [
        {
          "name": "stdout",
          "output_type": "stream",
          "text": [
            "Model: \"model_1\"\n",
            "_________________________________________________________________\n",
            " Layer (type)                Output Shape              Param #   \n",
            "=================================================================\n",
            " input_2 (InputLayer)        [(None, 13)]              0         \n",
            "                                                                 \n",
            " dense_4 (Dense)             (None, 13)                182       \n",
            "                                                                 \n",
            " dense_5 (Dense)             (None, 8)                 112       \n",
            "                                                                 \n",
            " dense_6 (Dense)             (None, 4)                 36        \n",
            "                                                                 \n",
            " dense_7 (Dense)             (None, 1)                 5         \n",
            "                                                                 \n",
            "=================================================================\n",
            "Total params: 335\n",
            "Trainable params: 335\n",
            "Non-trainable params: 0\n",
            "_________________________________________________________________\n"
          ]
        }
      ],
      "source": [
        "from tensorflow.keras.layers import Input, Dense\n",
        "from tensorflow.keras.models import Model\n",
        "\n",
        "input_layer = Input((13, ))\n",
        "first_hidden_layer = Dense(units=13, activation='relu')(input_layer)\n",
        "second_hidden_layer = Dense(units=8, activation='relu')(first_hidden_layer)\n",
        "third_hidden_layer = Dense(units=4, activation='relu')(second_hidden_layer)\n",
        "prediction = Dense(units=1)(third_hidden_layer)\n",
        "\n",
        "regression_model = Model(input_layer, prediction)\n",
        "\n",
        "regression_model.summary()"
      ]
    },
    {
      "cell_type": "code",
      "execution_count": 10,
      "metadata": {
        "colab": {
          "base_uri": "https://localhost:8080/"
        },
        "id": "z2xRKIp4oJdP",
        "outputId": "44693376-0359-4ac3-ebb6-07dcac901115"
      },
      "outputs": [
        {
          "name": "stdout",
          "output_type": "stream",
          "text": [
            "Epoch 1/200\n",
            "51/51 [==============================] - 1s 6ms/step - loss: 583.4778 - val_loss: 608.2206\n",
            "Epoch 2/200\n",
            "51/51 [==============================] - 0s 3ms/step - loss: 570.5087 - val_loss: 586.8928\n",
            "Epoch 3/200\n",
            "51/51 [==============================] - 0s 3ms/step - loss: 534.7522 - val_loss: 529.4942\n",
            "Epoch 4/200\n",
            "51/51 [==============================] - 0s 4ms/step - loss: 450.9308 - val_loss: 405.7039\n",
            "Epoch 5/200\n",
            "51/51 [==============================] - 0s 3ms/step - loss: 303.3004 - val_loss: 241.2735\n",
            "Epoch 6/200\n",
            "51/51 [==============================] - 0s 3ms/step - loss: 182.0902 - val_loss: 163.2130\n",
            "Epoch 7/200\n",
            "51/51 [==============================] - 0s 3ms/step - loss: 143.3459 - val_loss: 144.3817\n",
            "Epoch 8/200\n",
            "51/51 [==============================] - 0s 5ms/step - loss: 129.7276 - val_loss: 131.7092\n",
            "Epoch 9/200\n",
            "51/51 [==============================] - 0s 5ms/step - loss: 118.1526 - val_loss: 120.2702\n",
            "Epoch 10/200\n",
            "51/51 [==============================] - 0s 4ms/step - loss: 107.8096 - val_loss: 110.0201\n",
            "Epoch 11/200\n",
            "51/51 [==============================] - 0s 3ms/step - loss: 98.7434 - val_loss: 101.2353\n",
            "Epoch 12/200\n",
            "51/51 [==============================] - 0s 3ms/step - loss: 90.4653 - val_loss: 93.4013\n",
            "Epoch 13/200\n",
            "51/51 [==============================] - 0s 3ms/step - loss: 83.1621 - val_loss: 85.9976\n",
            "Epoch 14/200\n",
            "51/51 [==============================] - 0s 4ms/step - loss: 76.7349 - val_loss: 79.4153\n",
            "Epoch 15/200\n",
            "51/51 [==============================] - 0s 3ms/step - loss: 71.1506 - val_loss: 74.0064\n",
            "Epoch 16/200\n",
            "51/51 [==============================] - 0s 3ms/step - loss: 66.6124 - val_loss: 69.1833\n",
            "Epoch 17/200\n",
            "51/51 [==============================] - 0s 3ms/step - loss: 62.5825 - val_loss: 65.2138\n",
            "Epoch 18/200\n",
            "51/51 [==============================] - 0s 4ms/step - loss: 59.5461 - val_loss: 62.0498\n",
            "Epoch 19/200\n",
            "51/51 [==============================] - 0s 4ms/step - loss: 56.6979 - val_loss: 59.3740\n",
            "Epoch 20/200\n",
            "51/51 [==============================] - 0s 3ms/step - loss: 54.7733 - val_loss: 57.0402\n",
            "Epoch 21/200\n",
            "51/51 [==============================] - 0s 4ms/step - loss: 52.8491 - val_loss: 55.2422\n",
            "Epoch 22/200\n",
            "51/51 [==============================] - 0s 4ms/step - loss: 51.3261 - val_loss: 53.5031\n",
            "Epoch 23/200\n",
            "51/51 [==============================] - 0s 3ms/step - loss: 49.5408 - val_loss: 50.9937\n",
            "Epoch 24/200\n",
            "51/51 [==============================] - 0s 5ms/step - loss: 47.8795 - val_loss: 49.2388\n",
            "Epoch 25/200\n",
            "51/51 [==============================] - 0s 8ms/step - loss: 46.1138 - val_loss: 47.7260\n",
            "Epoch 26/200\n",
            "51/51 [==============================] - 0s 8ms/step - loss: 44.8388 - val_loss: 46.1136\n",
            "Epoch 27/200\n",
            "51/51 [==============================] - 0s 4ms/step - loss: 43.8451 - val_loss: 44.7153\n",
            "Epoch 28/200\n",
            "51/51 [==============================] - 0s 4ms/step - loss: 42.1938 - val_loss: 43.3751\n",
            "Epoch 29/200\n",
            "51/51 [==============================] - 0s 3ms/step - loss: 41.2598 - val_loss: 42.1698\n",
            "Epoch 30/200\n",
            "51/51 [==============================] - 0s 4ms/step - loss: 39.7976 - val_loss: 41.0031\n",
            "Epoch 31/200\n",
            "51/51 [==============================] - 0s 5ms/step - loss: 38.9328 - val_loss: 40.0095\n",
            "Epoch 32/200\n",
            "51/51 [==============================] - 0s 4ms/step - loss: 37.7127 - val_loss: 39.0021\n",
            "Epoch 33/200\n",
            "51/51 [==============================] - 0s 4ms/step - loss: 36.6281 - val_loss: 37.8982\n",
            "Epoch 34/200\n",
            "51/51 [==============================] - 0s 4ms/step - loss: 35.5343 - val_loss: 36.9163\n",
            "Epoch 35/200\n",
            "51/51 [==============================] - 0s 4ms/step - loss: 34.6029 - val_loss: 35.9931\n",
            "Epoch 36/200\n",
            "51/51 [==============================] - 0s 4ms/step - loss: 33.7316 - val_loss: 35.1749\n",
            "Epoch 37/200\n",
            "51/51 [==============================] - 0s 3ms/step - loss: 32.8070 - val_loss: 34.4211\n",
            "Epoch 38/200\n",
            "51/51 [==============================] - 0s 4ms/step - loss: 31.9165 - val_loss: 33.4048\n",
            "Epoch 39/200\n",
            "51/51 [==============================] - 0s 4ms/step - loss: 31.1561 - val_loss: 32.7859\n",
            "Epoch 40/200\n",
            "51/51 [==============================] - 0s 6ms/step - loss: 30.3344 - val_loss: 31.9979\n",
            "Epoch 41/200\n",
            "51/51 [==============================] - 0s 7ms/step - loss: 29.5881 - val_loss: 31.3484\n",
            "Epoch 42/200\n",
            "51/51 [==============================] - 0s 4ms/step - loss: 28.9232 - val_loss: 30.5859\n",
            "Epoch 43/200\n",
            "51/51 [==============================] - 0s 3ms/step - loss: 28.3087 - val_loss: 30.1530\n",
            "Epoch 44/200\n",
            "51/51 [==============================] - 0s 3ms/step - loss: 27.4574 - val_loss: 29.6346\n",
            "Epoch 45/200\n",
            "51/51 [==============================] - 0s 4ms/step - loss: 27.0005 - val_loss: 29.1232\n",
            "Epoch 46/200\n",
            "51/51 [==============================] - 0s 3ms/step - loss: 26.2628 - val_loss: 28.9410\n",
            "Epoch 47/200\n",
            "51/51 [==============================] - 0s 4ms/step - loss: 26.3529 - val_loss: 28.3244\n",
            "Epoch 48/200\n",
            "51/51 [==============================] - 0s 4ms/step - loss: 25.2437 - val_loss: 27.6483\n",
            "Epoch 49/200\n",
            "51/51 [==============================] - 0s 4ms/step - loss: 25.1787 - val_loss: 27.6409\n",
            "Epoch 50/200\n",
            "51/51 [==============================] - 0s 4ms/step - loss: 24.5044 - val_loss: 27.1146\n",
            "Epoch 51/200\n",
            "51/51 [==============================] - 0s 3ms/step - loss: 23.9977 - val_loss: 27.1874\n",
            "Epoch 52/200\n",
            "51/51 [==============================] - 0s 4ms/step - loss: 23.4293 - val_loss: 26.3612\n",
            "Epoch 53/200\n",
            "51/51 [==============================] - 0s 5ms/step - loss: 23.2222 - val_loss: 26.0036\n",
            "Epoch 54/200\n",
            "51/51 [==============================] - 0s 4ms/step - loss: 22.7133 - val_loss: 26.1587\n",
            "Epoch 55/200\n",
            "51/51 [==============================] - 0s 4ms/step - loss: 22.2174 - val_loss: 25.6480\n",
            "Epoch 56/200\n",
            "51/51 [==============================] - 0s 3ms/step - loss: 22.0070 - val_loss: 25.5184\n",
            "Epoch 57/200\n",
            "51/51 [==============================] - 0s 3ms/step - loss: 21.5160 - val_loss: 25.6610\n",
            "Epoch 58/200\n",
            "51/51 [==============================] - 0s 3ms/step - loss: 21.8529 - val_loss: 25.1345\n",
            "Epoch 59/200\n",
            "51/51 [==============================] - 0s 3ms/step - loss: 20.8947 - val_loss: 25.1889\n",
            "Epoch 60/200\n",
            "51/51 [==============================] - 0s 4ms/step - loss: 20.6745 - val_loss: 24.9029\n",
            "Epoch 61/200\n",
            "51/51 [==============================] - 0s 3ms/step - loss: 20.3750 - val_loss: 24.7474\n",
            "Epoch 62/200\n",
            "51/51 [==============================] - 0s 3ms/step - loss: 20.1301 - val_loss: 24.7544\n",
            "Epoch 63/200\n",
            "51/51 [==============================] - 0s 3ms/step - loss: 19.8098 - val_loss: 24.3931\n",
            "Epoch 64/200\n",
            "51/51 [==============================] - 0s 3ms/step - loss: 19.5766 - val_loss: 24.4419\n",
            "Epoch 65/200\n",
            "51/51 [==============================] - 0s 4ms/step - loss: 19.4275 - val_loss: 24.4493\n",
            "Epoch 66/200\n",
            "51/51 [==============================] - 0s 3ms/step - loss: 19.1423 - val_loss: 24.9041\n",
            "Epoch 67/200\n",
            "51/51 [==============================] - 0s 3ms/step - loss: 18.8781 - val_loss: 24.3464\n",
            "Epoch 68/200\n",
            "51/51 [==============================] - 0s 4ms/step - loss: 18.4745 - val_loss: 24.6995\n",
            "Epoch 69/200\n",
            "51/51 [==============================] - 0s 3ms/step - loss: 18.3417 - val_loss: 24.2519\n",
            "Epoch 70/200\n",
            "51/51 [==============================] - 0s 3ms/step - loss: 18.0587 - val_loss: 24.2179\n",
            "Epoch 71/200\n",
            "51/51 [==============================] - 0s 3ms/step - loss: 17.8225 - val_loss: 24.4027\n",
            "Epoch 72/200\n",
            "51/51 [==============================] - 0s 3ms/step - loss: 17.6199 - val_loss: 24.4717\n",
            "Epoch 73/200\n",
            "51/51 [==============================] - 0s 4ms/step - loss: 17.3037 - val_loss: 24.7590\n",
            "Epoch 74/200\n",
            "51/51 [==============================] - 0s 3ms/step - loss: 17.1534 - val_loss: 24.4432\n",
            "Epoch 75/200\n",
            "51/51 [==============================] - 0s 3ms/step - loss: 16.9873 - val_loss: 24.5637\n",
            "Epoch 76/200\n",
            "51/51 [==============================] - 0s 3ms/step - loss: 16.7206 - val_loss: 24.5016\n",
            "Epoch 77/200\n",
            "51/51 [==============================] - 0s 3ms/step - loss: 16.4054 - val_loss: 24.8205\n",
            "Epoch 78/200\n",
            "51/51 [==============================] - 0s 3ms/step - loss: 16.5259 - val_loss: 24.4582\n",
            "Epoch 79/200\n",
            "51/51 [==============================] - 0s 3ms/step - loss: 16.1391 - val_loss: 24.7864\n",
            "Epoch 80/200\n",
            "51/51 [==============================] - 0s 4ms/step - loss: 16.0186 - val_loss: 24.9976\n",
            "Epoch 81/200\n",
            "51/51 [==============================] - 0s 3ms/step - loss: 15.8317 - val_loss: 25.1430\n",
            "Epoch 82/200\n",
            "51/51 [==============================] - 0s 3ms/step - loss: 15.6814 - val_loss: 25.3232\n",
            "Epoch 83/200\n",
            "51/51 [==============================] - 0s 3ms/step - loss: 15.5935 - val_loss: 25.1787\n",
            "Epoch 84/200\n",
            "51/51 [==============================] - 0s 3ms/step - loss: 15.5002 - val_loss: 25.3508\n",
            "Epoch 85/200\n",
            "51/51 [==============================] - 0s 3ms/step - loss: 15.2347 - val_loss: 25.5477\n",
            "Epoch 86/200\n",
            "51/51 [==============================] - 0s 4ms/step - loss: 15.0187 - val_loss: 25.4418\n",
            "Epoch 87/200\n",
            "51/51 [==============================] - 0s 3ms/step - loss: 14.9045 - val_loss: 25.7606\n",
            "Epoch 88/200\n",
            "51/51 [==============================] - 0s 3ms/step - loss: 14.8905 - val_loss: 25.3964\n",
            "Epoch 89/200\n",
            "51/51 [==============================] - 0s 4ms/step - loss: 14.4998 - val_loss: 25.9431\n",
            "Epoch 90/200\n",
            "51/51 [==============================] - 0s 3ms/step - loss: 14.5266 - val_loss: 25.5026\n",
            "Epoch 91/200\n",
            "51/51 [==============================] - 0s 5ms/step - loss: 14.5039 - val_loss: 26.0017\n",
            "Epoch 92/200\n",
            "51/51 [==============================] - 0s 3ms/step - loss: 14.3277 - val_loss: 25.7153\n",
            "Epoch 93/200\n",
            "51/51 [==============================] - 0s 4ms/step - loss: 14.0528 - val_loss: 26.0908\n",
            "Epoch 94/200\n",
            "51/51 [==============================] - 0s 3ms/step - loss: 14.0203 - val_loss: 26.2512\n",
            "Epoch 95/200\n",
            "51/51 [==============================] - 0s 3ms/step - loss: 13.8368 - val_loss: 26.9275\n",
            "Epoch 96/200\n",
            "51/51 [==============================] - 0s 3ms/step - loss: 13.7424 - val_loss: 26.2617\n",
            "Epoch 97/200\n",
            "51/51 [==============================] - 0s 4ms/step - loss: 13.5794 - val_loss: 27.0313\n",
            "Epoch 98/200\n",
            "51/51 [==============================] - 0s 4ms/step - loss: 13.5810 - val_loss: 27.2836\n",
            "Epoch 99/200\n",
            "51/51 [==============================] - 0s 4ms/step - loss: 13.6611 - val_loss: 27.0559\n",
            "Epoch 100/200\n",
            "51/51 [==============================] - 0s 4ms/step - loss: 13.4599 - val_loss: 26.6960\n",
            "Epoch 101/200\n",
            "51/51 [==============================] - 0s 4ms/step - loss: 13.1210 - val_loss: 27.2404\n",
            "Epoch 102/200\n",
            "51/51 [==============================] - 0s 4ms/step - loss: 13.1925 - val_loss: 27.4157\n",
            "Epoch 103/200\n",
            "51/51 [==============================] - 0s 4ms/step - loss: 12.9877 - val_loss: 27.1521\n",
            "Epoch 104/200\n",
            "51/51 [==============================] - 0s 3ms/step - loss: 12.8923 - val_loss: 27.5697\n",
            "Epoch 105/200\n",
            "51/51 [==============================] - 0s 4ms/step - loss: 12.9864 - val_loss: 28.1477\n",
            "Epoch 106/200\n",
            "51/51 [==============================] - 0s 3ms/step - loss: 12.9768 - val_loss: 27.9157\n",
            "Epoch 107/200\n",
            "51/51 [==============================] - 0s 4ms/step - loss: 12.7419 - val_loss: 27.4843\n",
            "Epoch 108/200\n",
            "51/51 [==============================] - 0s 3ms/step - loss: 12.8304 - val_loss: 27.2435\n",
            "Epoch 109/200\n",
            "51/51 [==============================] - 0s 3ms/step - loss: 12.5263 - val_loss: 29.1405\n",
            "Epoch 110/200\n",
            "48/51 [===========================>..] - ETA: 0s - loss: 12.9307Restoring model weights from the end of the best epoch: 70.\n",
            "51/51 [==============================] - 0s 3ms/step - loss: 12.6386 - val_loss: 28.1970\n",
            "Epoch 110: early stopping\n"
          ]
        },
        {
          "data": {
            "text/plain": [
              "<keras.callbacks.History at 0x7f801d7dd070>"
            ]
          },
          "execution_count": 10,
          "metadata": {},
          "output_type": "execute_result"
        }
      ],
      "source": [
        "from tensorflow.keras.optimizers import SGD, Adam\n",
        "from tensorflow.keras.callbacks import EarlyStopping\n",
        "\n",
        "regression_model.compile(optimizer='adam', loss='mse')\n",
        "\n",
        "early_stop = EarlyStopping(monitor='val_loss', patience=40, restore_best_weights=True, verbose=1)\n",
        "\n",
        "regression_model.fit(x=train_data, y=train_labels, batch_size=8, epochs=200, validation_data=(test_data, test_labels), callbacks=[early_stop])"
      ]
    },
    {
      "cell_type": "markdown",
      "metadata": {
        "id": "jSkPjFhbzoHJ"
      },
      "source": [
        "### Model Evaluation"
      ]
    },
    {
      "cell_type": "code",
      "execution_count": 11,
      "metadata": {
        "colab": {
          "base_uri": "https://localhost:8080/",
          "height": 282
        },
        "id": "eBhEa_MFoJfx",
        "outputId": "64e24e9d-e8e9-4a75-85d4-9e7fe53a1951"
      },
      "outputs": [
        {
          "data": {
            "text/plain": [
              "<matplotlib.axes._subplots.AxesSubplot at 0x7f801d77f2b0>"
            ]
          },
          "execution_count": 11,
          "metadata": {},
          "output_type": "execute_result"
        },
        {
          "data": {
            "image/png": "[encoded data removed]",
            "text/plain": [
              "<Figure size 432x288 with 1 Axes>"
            ]
          },
          "metadata": {
            "needs_background": "light"
          },
          "output_type": "display_data"
        }
      ],
      "source": [
        "model_loss_history = pd.DataFrame(regression_model.history.history)\n",
        "model_loss_history.plot()"
      ]
    },
    {
      "cell_type": "code",
      "execution_count": 12,
      "metadata": {
        "colab": {
          "base_uri": "https://localhost:8080/"
        },
        "id": "P8k5XfneoJjL",
        "outputId": "178f17a5-9f1f-4e26-9310-2edd74fb07b8"
      },
      "outputs": [
        {
          "name": "stdout",
          "output_type": "stream",
          "text": [
            "7/7 [==============================] - 0s 3ms/step\n"
          ]
        },
        {
          "data": {
            "text/plain": [
              "(array([18.768442], dtype=float32), array([18.8]))"
            ]
          },
          "execution_count": 12,
          "metadata": {},
          "output_type": "execute_result"
        }
      ],
      "source": [
        "predictions = regression_model.predict(test_data, batch_size=16)\n",
        "predictions[1], test_labels[1]"
      ]
    },
    {
      "cell_type": "code",
      "execution_count": 13,
      "metadata": {
        "colab": {
          "base_uri": "https://localhost:8080/"
        },
        "id": "UeZ-kVkcoJln",
        "outputId": "6148fcfe-459c-4540-a599-7b18f45b4276"
      },
      "outputs": [
        {
          "data": {
            "text/plain": [
              "0.7843137254901961"
            ]
          },
          "execution_count": 13,
          "metadata": {},
          "output_type": "execute_result"
        }
      ],
      "source": [
        "errors = 0.0\n",
        "for idx in range(len(predictions)):\n",
        "    if abs(predictions[idx] - test_labels[idx]) > 5.0:\n",
        "        errors += 1.0\n",
        "        \n",
        "1 - (errors / len(predictions))        "
      ]
    }
  ],
  "metadata": {
    "colab": {
      "provenance": [],
      "toc_visible": true
    },
    "kernelspec": {
      "display_name": "Python 3",
      "name": "python3"
    },
    "language_info": {
      "name": "python"
    }
  },
  "nbformat": 4,
  "nbformat_minor": 0
}
