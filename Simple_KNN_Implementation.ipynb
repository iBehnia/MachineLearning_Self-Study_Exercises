{
  "nbformat": 4,
  "nbformat_minor": 0,
  "metadata": {
    "colab": {
      "provenance": []
    },
    "kernelspec": {
      "name": "python3",
      "display_name": "Python 3"
    },
    "language_info": {
      "name": "python"
    }
  },
  "cells": [
    {
      "cell_type": "code",
      "source": [
        "import numpy as np"
      ],
      "metadata": {
        "id": "Ks6nycZEuxMN"
      },
      "execution_count": 1,
      "outputs": []
    },
    {
      "cell_type": "code",
      "source": [
        "neighbors = [[2.7810836,2.550537003,0],\n",
        "\t[1.465489372,2.362125076,0],\n",
        "\t[3.396561688,4.400293529,0],\n",
        "\t[1.38807019,1.850220317,0],\n",
        "\t[3.06407232,3.005305973,0],\n",
        "\t[7.627531214,2.759262235,1],\n",
        "\t[5.332441248,2.088626775,1],\n",
        "\t[6.922596716,1.77106367,1],\n",
        "\t[8.675418651,-0.242068655,1],\n",
        "\t[7.673756466,3.508563011,1]]"
      ],
      "metadata": {
        "id": "cDQBdVZwuxxI"
      },
      "execution_count": 2,
      "outputs": []
    },
    {
      "cell_type": "code",
      "source": [
        "def get_distance(fst, sec):\n",
        "  dist = 0.0\n",
        "  for i in range(len(fst)-1):\n",
        "    dist += np.square(fst[i] - sec[i]) \n",
        "  return np.sqrt(dist)"
      ],
      "metadata": {
        "id": "hKR8Rlyvu1kb"
      },
      "execution_count": 3,
      "outputs": []
    },
    {
      "cell_type": "code",
      "source": [
        "def get_neighbors(neighbors, test, k):\n",
        "  distance = []\n",
        "  for n in neighbors:\n",
        "    dist = get_distance(n, test)\n",
        "    distance.append((n, dist)) \n",
        "  distance.sort(key= lambda tup:tup[1])\n",
        "  neighbors = []\n",
        "  for i in range(k):\n",
        "    neighbors.append(distance[i][0])\n",
        "  return neighbors"
      ],
      "metadata": {
        "id": "pFUZM_nzu3tk"
      },
      "execution_count": 4,
      "outputs": []
    },
    {
      "cell_type": "code",
      "source": [
        "def predict(neighbors, test, k):\n",
        "  neighbors = get_neighbors(neighbors, test, k)\n",
        "  output = [i[-1] for i in neighbors]\n",
        "  prediction = max(set(output), key=output.count)\n",
        "  return prediction"
      ],
      "metadata": {
        "id": "xLedTtB0u6G9"
      },
      "execution_count": 5,
      "outputs": []
    },
    {
      "cell_type": "code",
      "source": [
        "test = [6,2]\n",
        "\n",
        "predict(neighbors, test, 3)"
      ],
      "metadata": {
        "colab": {
          "base_uri": "https://localhost:8080/"
        },
        "id": "Xl3FSEK7u8EK",
        "outputId": "b916189d-dbb1-4cdc-b343-5349fc2af002"
      },
      "execution_count": 9,
      "outputs": [
        {
          "output_type": "execute_result",
          "data": {
            "text/plain": [
              "1"
            ]
          },
          "metadata": {},
          "execution_count": 9
        }
      ]
    },
    {
      "cell_type": "code",
      "source": [
        "from sklearn.datasets import load_iris\n",
        "iris = load_iris()\n",
        "lend = len(iris.target)\n",
        "iris = np.column_stack((iris.data, iris.target))\n",
        "iris[0]"
      ],
      "metadata": {
        "colab": {
          "base_uri": "https://localhost:8080/"
        },
        "id": "dqqSUhL8vAsB",
        "outputId": "899b9203-2eb2-4459-b8fb-fb95579dba6d"
      },
      "execution_count": 7,
      "outputs": [
        {
          "output_type": "execute_result",
          "data": {
            "text/plain": [
              "array([5.1, 3.5, 1.4, 0.2, 0. ])"
            ]
          },
          "metadata": {},
          "execution_count": 7
        }
      ]
    },
    {
      "cell_type": "code",
      "source": [
        "predict(iris,  [5. , 2.3, 3.3, 1.], 3 )"
      ],
      "metadata": {
        "colab": {
          "base_uri": "https://localhost:8080/"
        },
        "id": "sVdfr1B3vGgZ",
        "outputId": "0df0450f-fdea-4721-c247-eb2807b22deb"
      },
      "execution_count": 10,
      "outputs": [
        {
          "output_type": "execute_result",
          "data": {
            "text/plain": [
              "1.0"
            ]
          },
          "metadata": {},
          "execution_count": 10
        }
      ]
    }
  ]
}